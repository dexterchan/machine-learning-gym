{
 "cells": [
  {
   "cell_type": "code",
   "execution_count": 4,
   "id": "46a9c157",
   "metadata": {},
   "outputs": [],
   "source": [
    "import gymnasium as gym\n",
    "import tensorflow as tf\n",
    "from tensorflow import keras"
   ]
  },
  {
   "cell_type": "code",
   "execution_count": 6,
   "id": "d5d7eb91",
   "metadata": {},
   "outputs": [],
   "source": [
    "env = gym.make('CartPole-v1')"
   ]
  },
  {
   "cell_type": "markdown",
   "id": "fa41920d",
   "metadata": {},
   "source": [
    "Action Space is a [Discrete](https://gymnasium.farama.org/api/spaces/fundamental/#gymnasium.spaces.Discrete) type\n",
    "A space consisting of finitely many elements.\n",
    "In CartPole-v1, it has two actions: left or right"
   ]
  },
  {
   "cell_type": "code",
   "execution_count": 17,
   "id": "d65ca180",
   "metadata": {},
   "outputs": [
    {
     "name": "stdout",
     "output_type": "stream",
     "text": [
      "<class 'gymnasium.spaces.discrete.Discrete'>\n",
      "Action space size: 2\n",
      "Action space start value: 0\n"
     ]
    },
    {
     "data": {
      "text/plain": [
       "Discrete(2)"
      ]
     },
     "execution_count": 17,
     "metadata": {},
     "output_type": "execute_result"
    }
   ],
   "source": [
    "print(type(env.action_space))\n",
    "print(f\"Action space size: {env.action_space.n}\")\n",
    "print(f\"Action space start value: {env.action_space.start}\")\n",
    "env.action_space"
   ]
  },
  {
   "cell_type": "markdown",
   "id": "81095b1a",
   "metadata": {},
   "source": [
    "Observation space is a 4 dimension state: \n",
    "- Cart Position\n",
    "- Cart Velocity\n",
    "- Pole Angle\n",
    "- Pole Velocity at tip"
   ]
  },
  {
   "cell_type": "code",
   "execution_count": 20,
   "id": "af424be8",
   "metadata": {},
   "outputs": [
    {
     "name": "stdout",
     "output_type": "stream",
     "text": [
      "<class 'gymnasium.spaces.box.Box'>\n"
     ]
    },
    {
     "data": {
      "text/plain": [
       "Box([-4.8000002e+00 -3.4028235e+38 -4.1887903e-01 -3.4028235e+38], [4.8000002e+00 3.4028235e+38 4.1887903e-01 3.4028235e+38], (4,), float32)"
      ]
     },
     "execution_count": 20,
     "metadata": {},
     "output_type": "execute_result"
    }
   ],
   "source": [
    "print(type(env.observation_space))\n",
    "# print(f\"Action space size: {env.observation_space.n}\")\n",
    "# print(f\"Action space start value: {env.observation_space.start}\")\n",
    "env.observation_space"
   ]
  }
 ],
 "metadata": {
  "kernelspec": {
   "display_name": "Python [conda env:q-learning-lab] *",
   "language": "python",
   "name": "conda-env-q-learning-lab-py"
  },
  "language_info": {
   "codemirror_mode": {
    "name": "ipython",
    "version": 3
   },
   "file_extension": ".py",
   "mimetype": "text/x-python",
   "name": "python",
   "nbconvert_exporter": "python",
   "pygments_lexer": "ipython3",
   "version": "3.9.16"
  }
 },
 "nbformat": 4,
 "nbformat_minor": 5
}
