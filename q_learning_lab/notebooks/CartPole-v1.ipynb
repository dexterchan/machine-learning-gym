{
 "cells": [
  {
   "cell_type": "code",
   "execution_count": 1,
   "id": "46a9c157",
   "metadata": {},
   "outputs": [
    {
     "name": "stderr",
     "output_type": "stream",
     "text": [
      "2023-04-21 22:55:33.851711: I tensorflow/core/platform/cpu_feature_guard.cc:193] This TensorFlow binary is optimized with oneAPI Deep Neural Network Library (oneDNN) to use the following CPU instructions in performance-critical operations:  SSE4.1 SSE4.2 AVX AVX2 AVX512F AVX512_VNNI FMA\n",
      "To enable them in other operations, rebuild TensorFlow with the appropriate compiler flags.\n"
     ]
    }
   ],
   "source": [
    "import gymnasium as gym\n",
    "import tensorflow as tf\n",
    "from tensorflow import keras\n",
    "import numpy as np"
   ]
  },
  {
   "cell_type": "code",
   "execution_count": 2,
   "id": "da34c599",
   "metadata": {},
   "outputs": [
    {
     "name": "stderr",
     "output_type": "stream",
     "text": [
      "2023-04-21 22:55:40.499002: I tensorflow/core/platform/cpu_feature_guard.cc:193] This TensorFlow binary is optimized with oneAPI Deep Neural Network Library (oneDNN) to use the following CPU instructions in performance-critical operations:  SSE4.1 SSE4.2 AVX AVX2 AVX512F AVX512_VNNI FMA\n",
      "To enable them in other operations, rebuild TensorFlow with the appropriate compiler flags.\n"
     ]
    },
    {
     "data": {
      "text/plain": [
       "<keras.engine.sequential.Sequential at 0x10a67bf70>"
      ]
     },
     "execution_count": 2,
     "metadata": {},
     "output_type": "execute_result"
    }
   ],
   "source": [
    "from tensorflow.keras.initializers import Initializer\n",
    "keras.Sequential()"
   ]
  },
  {
   "cell_type": "code",
   "execution_count": 3,
   "id": "d5d7eb91",
   "metadata": {},
   "outputs": [],
   "source": [
    "#env = gym.make('CartPole-v1')\n",
    "env = gym.make(\n",
    "            id=\"CartPole-v1\",  # Choose one of the existing environments\n",
    "            render_mode=\"rgb_array\",  # The set of supported modes varies per environment. (And some third-party environments may not support rendering at all.)\n",
    "        )"
   ]
  },
  {
   "cell_type": "markdown",
   "id": "fa41920d",
   "metadata": {},
   "source": [
    "Action Space is a [Discrete](https://gymnasium.farama.org/api/spaces/fundamental/#gymnasium.spaces.Discrete) type\n",
    "A space consisting of finitely many elements.\n",
    "In CartPole-v1, it has two actions: left or right"
   ]
  },
  {
   "cell_type": "code",
   "execution_count": 4,
   "id": "d65ca180",
   "metadata": {},
   "outputs": [
    {
     "name": "stdout",
     "output_type": "stream",
     "text": [
      "<class 'gymnasium.spaces.discrete.Discrete'>\n",
      "Action space size: 2\n",
      "Action space start value: 0\n"
     ]
    },
    {
     "data": {
      "text/plain": [
       "Discrete(2)"
      ]
     },
     "execution_count": 4,
     "metadata": {},
     "output_type": "execute_result"
    }
   ],
   "source": [
    "print(type(env.action_space))\n",
    "print(f\"Action space size: {env.action_space.n}\")\n",
    "print(f\"Action space start value: {env.action_space.start}\")\n",
    "env.action_space"
   ]
  },
  {
   "cell_type": "markdown",
   "id": "81095b1a",
   "metadata": {},
   "source": [
    "Observation space is a 4 dimension state: \n",
    "- Cart Position\n",
    "- Cart Velocity\n",
    "- Pole Angle\n",
    "- Pole Velocity at tip"
   ]
  },
  {
   "cell_type": "code",
   "execution_count": 5,
   "id": "af424be8",
   "metadata": {},
   "outputs": [
    {
     "name": "stdout",
     "output_type": "stream",
     "text": [
      "<class 'gymnasium.spaces.box.Box'>\n"
     ]
    },
    {
     "data": {
      "text/plain": [
       "Box([-4.8000002e+00 -3.4028235e+38 -4.1887903e-01 -3.4028235e+38], [4.8000002e+00 3.4028235e+38 4.1887903e-01 3.4028235e+38], (4,), float32)"
      ]
     },
     "execution_count": 5,
     "metadata": {},
     "output_type": "execute_result"
    }
   ],
   "source": [
    "print(type(env.observation_space))\n",
    "# print(f\"Action space size: {env.observation_space.n}\")\n",
    "# print(f\"Action space start value: {env.observation_space.start}\")\n",
    "env.observation_space"
   ]
  },
  {
   "cell_type": "code",
   "execution_count": 16,
   "id": "8e9324d7",
   "metadata": {},
   "outputs": [
    {
     "data": {
      "text/plain": [
       "(4,)"
      ]
     },
     "execution_count": 16,
     "metadata": {},
     "output_type": "execute_result"
    }
   ],
   "source": [
    "(env.observation_space.shape)"
   ]
  },
  {
   "cell_type": "code",
   "execution_count": 7,
   "id": "4c9f9058",
   "metadata": {},
   "outputs": [
    {
     "data": {
      "text/plain": [
       "array([ 0.03847705, -0.02471477,  0.00235051, -0.02179517], dtype=float32)"
      ]
     },
     "execution_count": 7,
     "metadata": {},
     "output_type": "execute_result"
    }
   ],
   "source": [
    "observation,_ = env.reset()\n",
    "observation"
   ]
  },
  {
   "cell_type": "code",
   "execution_count": 8,
   "id": "679dfdfc",
   "metadata": {},
   "outputs": [],
   "source": [
    "next_state, reward, terminated, truncated, info = env.step(1)"
   ]
  },
  {
   "cell_type": "code",
   "execution_count": 12,
   "id": "6fa44aa1",
   "metadata": {},
   "outputs": [
    {
     "data": {
      "text/plain": [
       "array([ 0.03798275,  0.1703734 ,  0.00191461, -0.31373554], dtype=float32)"
      ]
     },
     "execution_count": 12,
     "metadata": {},
     "output_type": "execute_result"
    }
   ],
   "source": [
    "next_state"
   ]
  },
  {
   "cell_type": "code",
   "execution_count": 10,
   "id": "ffe1053f",
   "metadata": {},
   "outputs": [
    {
     "data": {
      "text/plain": [
       "3"
      ]
     },
     "execution_count": 10,
     "metadata": {},
     "output_type": "execute_result"
    }
   ],
   "source": [
    "from enum import Enum\n",
    "\n",
    "\n",
    "class Action_Space(int, Enum):\n",
    "    LEFT = 0\n",
    "    RIGHT = 1\n",
    "    NO_ACTION = 2\n",
    "len(Action_Space)"
   ]
  },
  {
   "cell_type": "code",
   "execution_count": 11,
   "id": "d9f72523",
   "metadata": {},
   "outputs": [
    {
     "data": {
      "text/plain": [
       "array([0.72207502, 0.51080984, 0.24993793, 0.93726079])"
      ]
     },
     "execution_count": 11,
     "metadata": {},
     "output_type": "execute_result"
    }
   ],
   "source": [
    "np.random.rand(4)"
   ]
  },
  {
   "cell_type": "code",
   "execution_count": 21,
   "id": "2742440d",
   "metadata": {},
   "outputs": [
    {
     "data": {
      "text/plain": [
       "array([0.80389116, 0.93223516, 0.14209373, 0.7641221 ])"
      ]
     },
     "execution_count": 21,
     "metadata": {},
     "output_type": "execute_result"
    }
   ],
   "source": [
    "np.random.rand(*(4,))"
   ]
  },
  {
   "cell_type": "code",
   "execution_count": null,
   "id": "987c6f0a",
   "metadata": {},
   "outputs": [],
   "source": [
    "TRAINING:bool = False\n",
    "EVALUATION:bool = True"
   ]
  },
  {
   "cell_type": "markdown",
   "id": "df866624",
   "metadata": {},
   "source": [
    "### Create CartPole environment"
   ]
  },
  {
   "cell_type": "code",
   "execution_count": null,
   "id": "d16ff523",
   "metadata": {},
   "outputs": [],
   "source": [
    "from q_learning_lab.port.environment import create_execute_environment\n",
    "from q_learning_lab.domain.models.cart_pole_v1_models import get_dnn_structure\n",
    "from q_learning_lab.domain.deep_q_learn import Reinforcement_DeepLearning\n",
    "from q_learning_lab.domain.models.cart_pole_v1_models import Params as Cart_Pole_Params\n",
    "import os"
   ]
  },
  {
   "cell_type": "code",
   "execution_count": null,
   "id": "9495d7cb",
   "metadata": {},
   "outputs": [],
   "source": [
    "from q_learning_lab.port.environment import create_execute_environment\n",
    "from q_learning_lab.domain.models.cart_pole_v1_models import get_dnn_structure\n",
    "from q_learning_lab.domain.deep_q_learn import Reinforcement_DeepLearning\n",
    "from q_learning_lab.domain.models.cart_pole_v1_models import Params as Cart_Pole_Params\n",
    "import os"
   ]
  },
  {
   "cell_type": "code",
   "execution_count": null,
   "id": "2c9fac87",
   "metadata": {},
   "outputs": [],
   "source": [
    "\n",
    "from pathlib import Path\n",
    "params = Cart_Pole_Params(\n",
    "            total_episodes=100,\n",
    "            n_max_steps=1000,\n",
    "            learning_rate=0.7, # learning rate alpha\n",
    "            gamma=0.618, # discount rate\n",
    "            epsilon=0.1,\n",
    "            savefig_folder=Path(\"_static/img/tutorials/\"),\n",
    "            savemodel_folder=Path(\"_static/model/test/training\"),\n",
    "            start_epsilon=1.0,  # Starting exploration probability\n",
    "            min_epsilon=0.05,  # Minimum exploration probability\n",
    "            decay_rate=0.001,\n",
    "        )\n",
    "# Create the environment\n",
    "env = create_execute_environment(arena=\"CartPole-v1\", params=params)"
   ]
  },
  {
   "cell_type": "code",
   "execution_count": null,
   "id": "cef39076",
   "metadata": {},
   "outputs": [],
   "source": [
    "\n",
    "if TRAINING:\n",
    "    dnn_structure = get_dnn_structure(\n",
    "                input_dim=env.observation_space_dim,\n",
    "                output_dim=env.action_space_dim,\n",
    "            )\n",
    "    deepagent_dict = Reinforcement_DeepLearning.train(\n",
    "                env=env,\n",
    "                params=params,\n",
    "                dnn_structure=dnn_structure,\n",
    "                is_verbose=True,\n",
    "                model_name=\"CartPole-v1-interactive\",\n",
    "            )\n"
   ]
  },
  {
   "cell_type": "code",
   "execution_count": null,
   "id": "5ab96925",
   "metadata": {},
   "outputs": [],
   "source": [
    "# Load the model from savemodel_folder\n",
    "from q_learning_lab.port.agent import load_saved_deep_agent\n",
    "\n",
    "if EVALUATION:\n",
    "    eval_result = []\n",
    "    complete_run:int = 0\n",
    "    my_model_path = os.path.join( str(params.savemodel_folder.joinpath(\"CartPole-v1_1990\")))\n",
    "    print(my_model_path)\n",
    "    eval_agent = load_saved_deep_agent(model_path=my_model_path)\n",
    "    eval_agent.verbose = False\n",
    "    assert eval_agent.verbose == False\n",
    "    for episode in range(1, params.total_episodes+1):\n",
    "        print(f\"Episode {episode}\")\n",
    "        reward, complete = eval_agent.play(env=env, max_step=params.n_max_steps)\n",
    "        eval_result.append(reward)\n",
    "        if complete:\n",
    "            complete_run += 1\n",
    "    print(f\"Complete run: {complete_run}\")\n",
    "    stats = np.array(eval_result)\n",
    "    print(f\"Played {episode} {stats.mean():.2f} +/- {stats.std():.2f} (min: {stats.min():.2f}, max: {stats.max():.2f}\")\n",
    "env.close()"
   ]
  },
  {
   "cell_type": "code",
   "execution_count": null,
   "id": "ce15040a",
   "metadata": {},
   "outputs": [],
   "source": [
    "import matplotlib.pyplot as plt\n",
    "#plot histogram of stats\n",
    "plt.hist(stats)"
   ]
  },
  {
   "cell_type": "code",
   "execution_count": null,
   "id": "dde9b049",
   "metadata": {},
   "outputs": [],
   "source": [
    "os.getcwd()"
   ]
  },
  {
   "cell_type": "code",
   "execution_count": null,
   "id": "e2d01c40",
   "metadata": {},
   "outputs": [],
   "source": [
    "\n",
    "(1,)"
   ]
  },
  {
   "cell_type": "code",
   "execution_count": null,
   "id": "87fc6fca",
   "metadata": {},
   "outputs": [],
   "source": [
    "len(Action_Space)"
   ]
  }
 ],
 "metadata": {
  "kernelspec": {
   "display_name": "Python [conda env:q-learning-lab] *",
   "language": "python",
   "name": "conda-env-q-learning-lab-py"
  },
  "language_info": {
   "codemirror_mode": {
    "name": "ipython",
    "version": 3
   },
   "file_extension": ".py",
   "mimetype": "text/x-python",
   "name": "python",
   "nbconvert_exporter": "python",
   "pygments_lexer": "ipython3",
   "version": "3.9.16"
  }
 },
 "nbformat": 4,
 "nbformat_minor": 5
}
