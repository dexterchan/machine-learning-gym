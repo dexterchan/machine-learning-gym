{
 "cells": [
  {
   "cell_type": "code",
   "execution_count": 1,
   "id": "be103080",
   "metadata": {},
   "outputs": [
    {
     "ename": "ModuleNotFoundError",
     "evalue": "No module named 'q_learning_lab'",
     "output_type": "error",
     "traceback": [
      "\u001b[0;31m---------------------------------------------------------------------------\u001b[0m",
      "\u001b[0;31mModuleNotFoundError\u001b[0m                       Traceback (most recent call last)",
      "Cell \u001b[0;32mIn[1], line 2\u001b[0m\n\u001b[1;32m      1\u001b[0m \u001b[39mimport\u001b[39;00m \u001b[39mos\u001b[39;00m\n\u001b[0;32m----> 2\u001b[0m \u001b[39mfrom\u001b[39;00m \u001b[39mq_learning_lab\u001b[39;00m\u001b[39m.\u001b[39;00m\u001b[39mport\u001b[39;00m\u001b[39m.\u001b[39;00m\u001b[39menvironment\u001b[39;00m \u001b[39mimport\u001b[39;00m create_execute_environment\n\u001b[1;32m      3\u001b[0m \u001b[39mfrom\u001b[39;00m \u001b[39mq_learning_lab\u001b[39;00m\u001b[39m.\u001b[39;00m\u001b[39mport\u001b[39;00m\u001b[39m.\u001b[39;00m\u001b[39mfrozen_lake\u001b[39;00m \u001b[39mimport\u001b[39;00m create_agent\n\u001b[1;32m      4\u001b[0m \u001b[39mfrom\u001b[39;00m \u001b[39mlogging\u001b[39;00m \u001b[39mimport\u001b[39;00m getLogger\n",
      "\u001b[0;31mModuleNotFoundError\u001b[0m: No module named 'q_learning_lab'"
     ]
    }
   ],
   "source": [
    "import os\n",
    "from q_learning_lab.port.environment import create_execute_environment\n",
    "from q_learning_lab.port.frozen_lake import create_agent\n",
    "from logging import getLogger\n",
    "from q_learning_lab.domain.q_learn import Agent"
   ]
  },
  {
   "cell_type": "code",
   "execution_count": null,
   "id": "06cc6efc",
   "metadata": {},
   "outputs": [],
   "source": [
    "from q_learning_lab.domain.frozen_lake.frozen_lake_models import Params\n",
    "from pathlib import Path\n",
    "params = Params(\n",
    "            total_episodes=2000,\n",
    "            n_max_steps=100,\n",
    "            learning_rate=0.8, # learning rate alpha\n",
    "            gamma=0.95, # discount rate\n",
    "            epsilon=0.1,\n",
    "            map_size=4,\n",
    "            seed=123,\n",
    "            is_slippery=False,\n",
    "            n_runs=20,\n",
    "            action_size=None,\n",
    "            state_size=None,\n",
    "            proba_frozen=0.9,\n",
    "            savefig_folder=Path(\"_static/img/tutorials/\"),\n",
    "            start_epsilon=1.0,  # Starting exploration probability\n",
    "            min_epsilon=0.05,  # Minimum exploration probability\n",
    "            decay_rate=0.001,\n",
    "        )"
   ]
  },
  {
   "cell_type": "code",
   "execution_count": null,
   "id": "88a28de3",
   "metadata": {},
   "outputs": [],
   "source": [
    "env = create_execute_environment(arena=\"frozen_lake\", params=params)\n",
    "assert env is not None"
   ]
  },
  {
   "attachments": {},
   "cell_type": "markdown",
   "id": "b8d81a3e",
   "metadata": {},
   "source": [
    "### Random walk testing"
   ]
  },
  {
   "cell_type": "code",
   "execution_count": null,
   "id": "c7e6e41d",
   "metadata": {},
   "outputs": [],
   "source": [
    "#agent = Agent(is_verbose=True, learning_rate=0.1, discount_rate=0.9)\n",
    "agent = create_agent(params=params, is_verbose=True)\n",
    "agent.random_walk(env, random_steps=10)"
   ]
  },
  {
   "attachments": {},
   "cell_type": "markdown",
   "id": "39d274a4",
   "metadata": {},
   "source": [
    "### train the agent"
   ]
  },
  {
   "cell_type": "markdown",
   "id": "89bd8a01",
   "metadata": {},
   "source": []
  },
  {
   "cell_type": "code",
   "execution_count": null,
   "id": "df27ccdc",
   "metadata": {},
   "outputs": [],
   "source": [
    "\n",
    "env = create_execute_environment(arena=\"frozen_lake\", params=params)\n",
    "assert env is not None\n",
    "\n",
    "agent = create_agent(params=params, is_verbose=False)\n",
    "qtable = agent.train(\n",
    "            env=env,\n",
    "            n_episodes=params.total_episodes,\n",
    "            n_max_steps=params.n_max_steps,\n",
    "            start_epsilon=params.start_epsilon,\n",
    "            min_epsilon=params.min_epsilon,\n",
    "            decay_rate=params.decay_rate,\n",
    "        )"
   ]
  },
  {
   "cell_type": "code",
   "execution_count": null,
   "id": "bd14aac0",
   "metadata": {},
   "outputs": [],
   "source": [
    "mean_reward, std_reward = agent.evaluate_agent(\n",
    "            env=env, Qtable=qtable, n_eval_episodes=10, n_max_steps=100\n",
    "        )"
   ]
  },
  {
   "cell_type": "code",
   "execution_count": null,
   "id": "2cf90583",
   "metadata": {},
   "outputs": [],
   "source": [
    "print(f\"Mean_reward={mean_reward:.2f} +/- {std_reward:.2f}\")"
   ]
  },
  {
   "attachments": {},
   "cell_type": "markdown",
   "id": "bb550608",
   "metadata": {},
   "source": [
    "### Visually run the agent here"
   ]
  },
  {
   "cell_type": "code",
   "execution_count": null,
   "id": "15df658b",
   "metadata": {},
   "outputs": [],
   "source": [
    "params = Params(\n",
    "            total_episodes=2000,\n",
    "            n_max_steps=19,\n",
    "            learning_rate=0.8, # learning rate alpha\n",
    "            gamma=0.95, # discount rate\n",
    "            epsilon=0.1,\n",
    "            map_size=5,\n",
    "            seed=123,\n",
    "            is_slippery=False,\n",
    "            n_runs=20,\n",
    "            action_size=None,\n",
    "            state_size=None,\n",
    "            proba_frozen=0.9,\n",
    "            savefig_folder=Path(\"_static/img/tutorials/\"),\n",
    "            start_epsilon=1.0,  # Starting exploration probability\n",
    "            min_epsilon=0.05,  # Minimum exploration probability\n",
    "            decay_rate=0.001,\n",
    "        )\n",
    "agent_verbose = create_agent(params=params, is_verbose=True)\n",
    "mean_reward, _ = agent_verbose.evaluate_agent(\n",
    "            env=env, Qtable=qtable, n_eval_episodes=1, n_max_steps=19\n",
    "        )"
   ]
  }
 ],
 "metadata": {
  "kernelspec": {
   "display_name": "q-learning-lab",
   "language": "python",
   "name": "python3"
  },
  "language_info": {
   "codemirror_mode": {
    "name": "ipython",
    "version": 3
   },
   "file_extension": ".py",
   "mimetype": "text/x-python",
   "name": "python",
   "nbconvert_exporter": "python",
   "pygments_lexer": "ipython3",
   "version": "3.9.16"
  }
 },
 "nbformat": 4,
 "nbformat_minor": 5
}
